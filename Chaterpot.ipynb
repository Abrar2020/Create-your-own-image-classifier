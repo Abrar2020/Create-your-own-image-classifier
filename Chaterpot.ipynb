{
  "nbformat": 4,
  "nbformat_minor": 0,
  "metadata": {
    "colab": {
      "name": "Chaterpot ",
      "provenance": [],
      "collapsed_sections": [],
      "authorship_tag": "ABX9TyOCn7thcplUcDrFZVwsB13D",
      "include_colab_link": true
    },
    "kernelspec": {
      "name": "python3",
      "display_name": "Python 3"
    }
  },
  "cells": [
    {
      "cell_type": "markdown",
      "metadata": {
        "id": "view-in-github",
        "colab_type": "text"
      },
      "source": [
        "<a href=\"https://colab.research.google.com/github/Abrar2020/Create-your-own-image-classifier/blob/master/Chaterpot.ipynb\" target=\"_parent\"><img src=\"https://colab.research.google.com/assets/colab-badge.svg\" alt=\"Open In Colab\"/></a>"
      ]
    },
    {
      "cell_type": "code",
      "metadata": {
        "colab": {
          "base_uri": "https://localhost:8080/"
        },
        "id": "jKLQZZyuKAJk",
        "outputId": "0ac5b61a-820e-41d2-e897-ecc648651807"
      },
      "source": [
        "!pip install chatterbot"
      ],
      "execution_count": null,
      "outputs": [
        {
          "output_type": "stream",
          "text": [
            "Collecting chatterbot\n",
            "\u001b[?25l  Downloading https://files.pythonhosted.org/packages/7c/21/85c2b114bd9dfabdd46ba58fc4519acdaed45d8c70898d40079e37a45e67/ChatterBot-1.0.8-py2.py3-none-any.whl (63kB)\n",
            "\r\u001b[K     |█████▏                          | 10kB 13.1MB/s eta 0:00:01\r\u001b[K     |██████████▎                     | 20kB 19.3MB/s eta 0:00:01\r\u001b[K     |███████████████▌                | 30kB 12.5MB/s eta 0:00:01\r\u001b[K     |████████████████████▋           | 40kB 9.3MB/s eta 0:00:01\r\u001b[K     |█████████████████████████▊      | 51kB 5.4MB/s eta 0:00:01\r\u001b[K     |███████████████████████████████ | 61kB 6.2MB/s eta 0:00:01\r\u001b[K     |████████████████████████████████| 71kB 3.7MB/s \n",
            "\u001b[?25hCollecting mathparse<0.2,>=0.1\n",
            "  Downloading https://files.pythonhosted.org/packages/c3/e5/4910fb85950cb960fcf3f5aabe1c8e55f5c9201788a1c1302b570a7e1f84/mathparse-0.1.2-py3-none-any.whl\n",
            "Requirement already satisfied: pytz in /usr/local/lib/python3.7/dist-packages (from chatterbot) (2018.9)\n",
            "Requirement already satisfied: sqlalchemy<1.4,>=1.3 in /usr/local/lib/python3.7/dist-packages (from chatterbot) (1.3.23)\n",
            "Requirement already satisfied: python-dateutil<2.9,>=2.8 in /usr/local/lib/python3.7/dist-packages (from chatterbot) (2.8.1)\n",
            "Requirement already satisfied: six>=1.5 in /usr/local/lib/python3.7/dist-packages (from python-dateutil<2.9,>=2.8->chatterbot) (1.15.0)\n",
            "Installing collected packages: mathparse, chatterbot\n",
            "Successfully installed chatterbot-1.0.8 mathparse-0.1.2\n"
          ],
          "name": "stdout"
        }
      ]
    },
    {
      "cell_type": "markdown",
      "metadata": {
        "id": "n9EK3LhCKU9S"
      },
      "source": [
        ""
      ]
    },
    {
      "cell_type": "code",
      "metadata": {
        "colab": {
          "base_uri": "https://localhost:8080/"
        },
        "id": "1GfxviPRK2p9",
        "outputId": "299257a7-9a19-4bda-d182-62b4015cfa26"
      },
      "source": [
        "!pip install chatterbot_corpus"
      ],
      "execution_count": null,
      "outputs": [
        {
          "output_type": "stream",
          "text": [
            "Collecting chatterbot_corpus\n",
            "\u001b[?25l  Downloading https://files.pythonhosted.org/packages/ed/19/f8b41daf36fe4b0f43e283a820362ffdb2c1128600ab4ee187e84262fa4d/chatterbot_corpus-1.2.0-py2.py3-none-any.whl (117kB)\n",
            "\r\u001b[K     |██▉                             | 10kB 14.4MB/s eta 0:00:01\r\u001b[K     |█████▋                          | 20kB 10.7MB/s eta 0:00:01\r\u001b[K     |████████▍                       | 30kB 10.1MB/s eta 0:00:01\r\u001b[K     |███████████▏                    | 40kB 8.1MB/s eta 0:00:01\r\u001b[K     |██████████████                  | 51kB 5.1MB/s eta 0:00:01\r\u001b[K     |████████████████▊               | 61kB 5.4MB/s eta 0:00:01\r\u001b[K     |███████████████████▋            | 71kB 5.7MB/s eta 0:00:01\r\u001b[K     |██████████████████████▍         | 81kB 6.2MB/s eta 0:00:01\r\u001b[K     |█████████████████████████▏      | 92kB 5.6MB/s eta 0:00:01\r\u001b[K     |████████████████████████████    | 102kB 6.1MB/s eta 0:00:01\r\u001b[K     |██████████████████████████████▊ | 112kB 6.1MB/s eta 0:00:01\r\u001b[K     |████████████████████████████████| 122kB 6.1MB/s \n",
            "\u001b[?25hRequirement already satisfied: PyYAML<4.0,>=3.12 in /usr/local/lib/python3.7/dist-packages (from chatterbot_corpus) (3.13)\n",
            "Installing collected packages: chatterbot-corpus\n",
            "Successfully installed chatterbot-corpus-1.2.0\n"
          ],
          "name": "stdout"
        }
      ]
    },
    {
      "cell_type": "code",
      "metadata": {
        "id": "J90mBwp5LC-9"
      },
      "source": [
        "# Importing chatterbot\r\n",
        "from chatterbot import ChatBot"
      ],
      "execution_count": 22,
      "outputs": []
    },
    {
      "cell_type": "code",
      "metadata": {
        "id": "0eZ25-KBLPHS"
      },
      "source": [
        "# Create object of ChatBot class\r\n",
        "bot = ChatBot('Buddy')"
      ],
      "execution_count": 23,
      "outputs": []
    },
    {
      "cell_type": "code",
      "metadata": {
        "id": "Lh_OBbhFLRfM"
      },
      "source": [
        "bot = ChatBot(\r\n",
        "    'Buddy',\r\n",
        "    storage_adapter='chatterbot.storage.SQLStorageAdapter',\r\n",
        "    database_uri='sqlite:///database.sqlite3'\r\n",
        ")"
      ],
      "execution_count": 24,
      "outputs": []
    },
    {
      "cell_type": "code",
      "metadata": {
        "id": "5qfKivQCLqxN"
      },
      "source": [
        "# Create object of ChatBot class with Logic Adapter\r\n",
        "bot = ChatBot(\r\n",
        "    'Buddy',  \r\n",
        "    logic_adapters=[\r\n",
        "        'chatterbot.logic.BestMatch',\r\n",
        "        'chatterbot.logic.TimeLogicAdapter'],\r\n",
        ")"
      ],
      "execution_count": 25,
      "outputs": []
    },
    {
      "cell_type": "code",
      "metadata": {
        "colab": {
          "base_uri": "https://localhost:8080/",
          "height": 0
        },
        "id": "GBxX7wKDL04r",
        "outputId": "f154ef7e-f29e-4b3c-a7b9-ea46939c3546"
      },
      "source": [
        "# Inport ListTrainer\r\n",
        "from chatterbot.trainers import ListTrainer\r\n",
        "\r\n",
        "trainer = ListTrainer(bot)\r\n",
        "\r\n",
        "trainer.train([\r\n",
        "'السلام عليكم',\r\n",
        "'وعليكم السلام ',\r\n",
        "'أحتاج آستفسار بخصوص الشكوى  ',\r\n",
        "'لطفا : ممكن رقم الشكوى ',\r\n",
        "'رقم الشكوى هو ' ,\r\n",
        "'   خلال 3-5 أيام الشكوى الحالية قيد التنفيذ وسيتم تبليغك بالرد المناسب',\r\n",
        "\r\n",
        "'شكرا',\r\n",
        "'أهلا بك ! يومك سعيد'\r\n",
        "])"
      ],
      "execution_count": 26,
      "outputs": [
        {
          "output_type": "stream",
          "text": [
            "List Trainer: [####################] 100%\n"
          ],
          "name": "stdout"
        }
      ]
    },
    {
      "cell_type": "code",
      "metadata": {
        "id": "GN5EH6b6MB88",
        "colab": {
          "base_uri": "https://localhost:8080/",
          "height": 0
        },
        "outputId": "9c5404ef-efbd-418e-b92c-ee2f04172275"
      },
      "source": [
        "# Get a response to the input text 'I would like to book a flight.'\r\n",
        "response = bot.get_response('السلام عليكم')\r\n",
        "\r\n",
        "print(\"SAMA Response:\", response)"
      ],
      "execution_count": 27,
      "outputs": [
        {
          "output_type": "stream",
          "text": [
            "SAMA Response: وعليكم السلام\n"
          ],
          "name": "stdout"
        }
      ]
    },
    {
      "cell_type": "code",
      "metadata": {
        "colab": {
          "base_uri": "https://localhost:8080/",
          "height": 0
        },
        "id": "yuoOiNhimTwN",
        "outputId": "f451c7dd-8081-4734-e713-a2144262db82"
      },
      "source": [
        "response = bot.get_response('شكرا')\r\n",
        "\r\n",
        "print(\"SAMA Response:\", response)"
      ],
      "execution_count": 28,
      "outputs": [
        {
          "output_type": "stream",
          "text": [
            "SAMA Response: أهلا بك ! يومك سعيد\n"
          ],
          "name": "stdout"
        }
      ]
    }
  ]
}